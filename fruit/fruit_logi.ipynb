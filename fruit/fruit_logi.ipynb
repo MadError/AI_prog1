{
 "cells": [
  {
   "cell_type": "code",
   "execution_count": 50,
   "metadata": {},
   "outputs": [],
   "source": [
    "import numpy as np\n",
    "import glob\n",
    "import cv2\n",
    "import os\n",
    "from sklearn.preprocessing import StandardScaler\n",
    "from sklearn import metrics\n",
    "\n",
    "dim = 100 # image size 100 x 100"
   ]
  },
  {
   "cell_type": "code",
   "execution_count": 51,
   "metadata": {},
   "outputs": [],
   "source": [
    "train_path = \"../orange_dataset/train/\"\n",
    "test_path = \"../orange_dataset/test/\""
   ]
  },
  {
   "cell_type": "code",
   "execution_count": 52,
   "metadata": {},
   "outputs": [],
   "source": [
    "# get image from paths, preprocess them, and append to a list\n",
    "def getImage(all_fruits, data_type):\n",
    "    images = []\n",
    "    labels = []\n",
    "    path = train_path\n",
    "    if(data_type == 'test'):\n",
    "        path = test_path\n",
    "\n",
    "    for i,f in enumerate(all_fruits):\n",
    "        p = path + f + \"/\"\n",
    "        j=0\n",
    "        for image_path in glob.glob(os.path.join(p, \"*.png\")):\n",
    "            image = cv2.imread(image_path, cv2.IMREAD_COLOR)\n",
    "            image = cv2.resize(image, (dim, dim))\n",
    "            #image = cv2.cvtColor(image, cv2.COLOR_RGB2BGR)\n",
    "            images.append(image)\n",
    "            labels.append(i)\n",
    "            j+=1\n",
    "            #if(j >= 50 and data_type == 'train'): # take less datas to test about data size\n",
    "            #    break\n",
    "        print(\"There are \" , j , \" \" , data_type.upper(), \" images of \" , all_fruits[i].upper())\n",
    "    images = np.array(images)\n",
    "    labels = np.array(labels)\n",
    "    return images, labels"
   ]
  },
  {
   "cell_type": "code",
   "execution_count": 53,
   "metadata": {},
   "outputs": [
    {
     "name": "stdout",
     "output_type": "stream",
     "text": [
      "There are  1595   TRAIN  images of  ROTTEN\n",
      "There are  1466   TRAIN  images of  FRESH\n",
      "There are  403   TEST  images of  ROTTEN\n",
      "There are  388   TEST  images of  FRESH\n"
     ]
    }
   ],
   "source": [
    "labels = ['rotten' , 'fresh']\n",
    "\n",
    "X, y =  getImage(labels, 'train')\n",
    "X_test, y_test = getImage(labels, 'test')"
   ]
  },
  {
   "cell_type": "code",
   "execution_count": 54,
   "metadata": {},
   "outputs": [],
   "source": [
    "scaler = StandardScaler()   # flatten the images to put into the model\n",
    "X = scaler.fit_transform([i.flatten() for i in X])\n",
    "X_test = scaler.fit_transform([i.flatten() for i in X_test])"
   ]
  },
  {
   "cell_type": "code",
   "execution_count": 55,
   "metadata": {},
   "outputs": [
    {
     "name": "stdout",
     "output_type": "stream",
     "text": [
      "Accuracy with logistic regression: 91.53%\n"
     ]
    }
   ],
   "source": [
    "from sklearn.linear_model import LogisticRegression\n",
    "model = LogisticRegression(max_iter=1800, C=0.01)\n",
    "model.fit(X, y) \n",
    "y_pred = model.predict(X_test)\n",
    "precision = metrics.accuracy_score(y_pred, y_test) * 100\n",
    "print(\"Accuracy with logistic regression: {0:.2f}%\".format(precision))"
   ]
  }
 ],
 "metadata": {
  "kernelspec": {
   "display_name": "tensorflow",
   "language": "python",
   "name": "python3"
  },
  "language_info": {
   "codemirror_mode": {
    "name": "ipython",
    "version": 3
   },
   "file_extension": ".py",
   "mimetype": "text/x-python",
   "name": "python",
   "nbconvert_exporter": "python",
   "pygments_lexer": "ipython3",
   "version": "3.9.13"
  },
  "orig_nbformat": 4
 },
 "nbformat": 4,
 "nbformat_minor": 2
}
