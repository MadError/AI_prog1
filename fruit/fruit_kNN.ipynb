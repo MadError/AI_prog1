{
 "cells": [
  {
   "cell_type": "code",
   "execution_count": 73,
   "metadata": {},
   "outputs": [],
   "source": [
    "from sklearn.neighbors import KNeighborsClassifier\n",
    "from sklearn.metrics import classification_report\n",
    "import numpy as np\n",
    "import os  "
   ]
  },
  {
   "cell_type": "code",
   "execution_count": 74,
   "metadata": {},
   "outputs": [],
   "source": [
    "train_path = \"../orange_dataset/train/\"\n",
    "test_path = \"../orange_dataset/test/\""
   ]
  },
  {
   "cell_type": "code",
   "execution_count": 75,
   "metadata": {},
   "outputs": [],
   "source": [
    "# simple preprocess, resize\n",
    "import cv2\n",
    "class SimplePreprocessor:\n",
    "    def __init__(self, width, height, inter=cv2.INTER_AREA):\n",
    "        self.width = width\n",
    "        self.height = height\n",
    "        self.inter = inter\n",
    "        \n",
    "    def preprocess(self, image):\n",
    "        return cv2.resize(image, (self.width, self.height), interpolation=self.inter)"
   ]
  },
  {
   "cell_type": "code",
   "execution_count": 76,
   "metadata": {},
   "outputs": [],
   "source": [
    "# put in path then output arrays of preprocessed images and labels\n",
    "class SimpleDatasetLoader:\n",
    "    def __init__(self, preprocessor=None):\n",
    "        self.preprocessor = preprocessor\n",
    "\n",
    "    def load(self, path, type, label, verbose=-1):\n",
    "        data = []\n",
    "        labels = []\n",
    "        Image_path = path + type\n",
    "\n",
    "        imagePaths = os.listdir(Image_path)\n",
    "        imagePaths = [Image_path+\"/\"+i for i in imagePaths]\n",
    "        \n",
    "        for (i, imagePath) in enumerate(imagePaths):\n",
    "            #if(i >= 1000 and path == train_path): # take less datas to test about data size\n",
    "            #    break\n",
    "            if True:\n",
    "                image = cv2.imread(imagePath)\n",
    "                label = label\n",
    "\n",
    "                if image is None:\n",
    "                    continue\n",
    "\n",
    "                if self.preprocessor is not None:\n",
    "                    image = self.preprocessor.preprocess(image)        \n",
    "                    data.append(image)\n",
    "                    labels.append(label)\n",
    "            if verbose > 0 and i > 0 and (i + 1) % verbose == 0:\n",
    "                print(\"[INFO] processed {}/{}\".format(i + 1,len(imagePaths)))\n",
    "            \n",
    "        return (np.array(data), np.array(labels))"
   ]
  },
  {
   "cell_type": "code",
   "execution_count": 77,
   "metadata": {},
   "outputs": [],
   "source": [
    "def process_img(path, type, label):\n",
    "    sp = SimplePreprocessor(128, 128)\n",
    "    sdl = SimpleDatasetLoader(sp)\n",
    "    (data, labels) = sdl.load(path, type, verbose=500, label=label)\n",
    "    data = data.reshape((data.shape[0], 49152))\n",
    "\n",
    "    print(\"[INFO] features matrix: {:.1f}MB\".format(data.nbytes / (1024 * 1024.0)))\n",
    "\n",
    "    return data, labels"
   ]
  },
  {
   "cell_type": "code",
   "execution_count": 78,
   "metadata": {},
   "outputs": [
    {
     "name": "stdout",
     "output_type": "stream",
     "text": [
      "[INFO] processed 500/1466\n",
      "[INFO] processed 1000/1466\n",
      "[INFO] features matrix: 68.7MB\n",
      "[INFO] processed 500/1595\n",
      "[INFO] processed 1000/1595\n",
      "[INFO] processed 1500/1595\n",
      "[INFO] features matrix: 74.8MB\n",
      "[INFO] features matrix: 18.2MB\n",
      "[INFO] features matrix: 18.9MB\n"
     ]
    }
   ],
   "source": [
    "(data_fresh, fresh_labels) = process_img(train_path, 'fresh', 1)\n",
    "(data_rotten, rotten_labels) = process_img(train_path, 'rotten', 0)\n",
    "(tdata_fresh, fresh_tlabels) = process_img(test_path, 'fresh', 1)\n",
    "(tdata_rotten, rotten_tlabels) = process_img(test_path, 'rotten', 0)\n",
    "\n",
    "x_train = np.concatenate([data_fresh, data_rotten])\n",
    "y_train = np.concatenate([fresh_labels, rotten_labels])\n",
    "x_test = np.concatenate([tdata_fresh, tdata_rotten])\n",
    "y_test = np.concatenate([fresh_tlabels, rotten_tlabels])"
   ]
  },
  {
   "cell_type": "code",
   "execution_count": 79,
   "metadata": {},
   "outputs": [
    {
     "data": {
      "text/plain": [
       "KNeighborsClassifier(n_jobs=1, n_neighbors=9)"
      ]
     },
     "execution_count": 79,
     "metadata": {},
     "output_type": "execute_result"
    }
   ],
   "source": [
    "model = KNeighborsClassifier(n_neighbors=9, n_jobs=1)\n",
    "model.fit(x_train, y_train)"
   ]
  },
  {
   "cell_type": "code",
   "execution_count": 80,
   "metadata": {},
   "outputs": [
    {
     "name": "stdout",
     "output_type": "stream",
     "text": [
      "Accuracy with KNN: 85.46%\n"
     ]
    }
   ],
   "source": [
    "from sklearn import metrics\n",
    "y_pred = model.predict(x_test)\n",
    "precision = metrics.accuracy_score(y_pred, y_test) * 100\n",
    "print(\"Accuracy with KNN: {0:.2f}%\".format(precision))"
   ]
  },
  {
   "cell_type": "code",
   "execution_count": 81,
   "metadata": {},
   "outputs": [
    {
     "name": "stdout",
     "output_type": "stream",
     "text": [
      "              precision    recall  f1-score   support\n",
      "\n",
      "           0       0.91      0.79      0.85       403\n",
      "           1       0.81      0.92      0.86       388\n",
      "\n",
      "    accuracy                           0.85       791\n",
      "   macro avg       0.86      0.86      0.85       791\n",
      "weighted avg       0.86      0.85      0.85       791\n",
      "\n"
     ]
    }
   ],
   "source": [
    "print(classification_report(y_test, model.predict(x_test)))"
   ]
  }
 ],
 "metadata": {
  "kernelspec": {
   "display_name": "base",
   "language": "python",
   "name": "python3"
  },
  "language_info": {
   "codemirror_mode": {
    "name": "ipython",
    "version": 3
   },
   "file_extension": ".py",
   "mimetype": "text/x-python",
   "name": "python",
   "nbconvert_exporter": "python",
   "pygments_lexer": "ipython3",
   "version": "3.9.13"
  },
  "orig_nbformat": 4
 },
 "nbformat": 4,
 "nbformat_minor": 2
}
