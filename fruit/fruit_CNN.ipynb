{
 "cells": [
  {
   "cell_type": "code",
   "execution_count": 1,
   "metadata": {},
   "outputs": [],
   "source": [
    "import tensorflow as tf\n",
    "import numpy as np\n",
    "import os\n",
    "import pandas as pd"
   ]
  },
  {
   "cell_type": "code",
   "execution_count": 2,
   "metadata": {},
   "outputs": [],
   "source": [
    "IMAGE_SIZE = [224, 224] # image size 224 x 224\n",
    "path=\"../orange_dataset/\""
   ]
  },
  {
   "cell_type": "code",
   "execution_count": 3,
   "metadata": {},
   "outputs": [],
   "source": [
    "train = []\n",
    "i = 0\n",
    "data_size = 50\n",
    "for file in os.listdir(os.path.join(path, 'train/fresh')):\n",
    "    #if(i >= data_size): # take less datas to test about data size\n",
    "    #    break\n",
    "    #i+=1\n",
    "    train.append(['train/fresh/{}'.format(file), 'fresh'])\n",
    "i = 0\n",
    "for file in os.listdir(os.path.join(path, 'train/rotten')):\n",
    "    #if(i >= data_size): # take less datas to test about data size\n",
    "    #    break\n",
    "    #i+=1\n",
    "    train.append(['train/rotten/{}'.format(file), 'rotten'])\n",
    "train = pd.DataFrame(train, columns=['file', 'class_id'])\n",
    "train = train.sample(frac=1).reset_index(drop=True)\n",
    "\n",
    "test = []\n",
    "for file in os.listdir(os.path.join(path, 'test/fresh')):\n",
    "    test.append(['test/fresh/{}'.format(file), 'fresh'])\n",
    "for file in os.listdir(os.path.join(path, 'test/rotten')):\n",
    "    test.append(['test/rotten/{}'.format(file), 'rotten'])\n",
    "test = pd.DataFrame(test, columns=['file', 'class_id'])\n",
    "test = test.sample(frac=1).reset_index(drop=True)"
   ]
  },
  {
   "cell_type": "code",
   "execution_count": null,
   "metadata": {},
   "outputs": [],
   "source": [
    "from keras.preprocessing.image import ImageDataGenerator\n",
    "# create generator for more datas\n",
    "datagen = ImageDataGenerator(rescale = 1./255,\n",
    "                             shear_range = 0.2,\n",
    "                             zoom_range = 0.2,\n",
    "                             horizontal_flip = True,\n",
    "                             vertical_flip=True,\n",
    "                             rotation_range=30)\n",
    "# prepare an iterators for each dataset\n",
    "train_it = datagen.flow_from_dataframe(dataframe=train,\n",
    "                                       directory=path, \n",
    "                                       class_mode='categorical',\n",
    "                                       target_size=(224, 224),\n",
    "                                       x_col=\"file\",\n",
    "                                       y_col=\"class_id\",\n",
    "                                       batch_size=2,\n",
    "                                       seed=7) # set seed for stable performance\n",
    "\n",
    "test_it = datagen.flow_from_dataframe(dataframe=test,\n",
    "                                       directory=path,  \n",
    "                                       class_mode='categorical',\n",
    "                                       target_size=(224, 224),\n",
    "                                       x_col=\"file\",\n",
    "                                       y_col=\"class_id\",\n",
    "                                       batch_size=2,\n",
    "                                       seed=7)"
   ]
  },
  {
   "cell_type": "code",
   "execution_count": 5,
   "metadata": {},
   "outputs": [],
   "source": [
    "from keras.layers import Conv2D, MaxPooling2D, Flatten, Dense\n",
    "from keras import Sequential"
   ]
  },
  {
   "cell_type": "code",
   "execution_count": 6,
   "metadata": {},
   "outputs": [],
   "source": [
    "model = Sequential()\n",
    "model.add(Conv2D(32, (5,5),padding='valid',activation='relu',input_shape=(224,224,3)))\n",
    "model.add(MaxPooling2D(pool_size=(4,4)))\n",
    "model.add(Flatten())\n",
    "model.add(Dense(128,activation='relu'))\n",
    "model.add(Dense(2,activation='softmax'))"
   ]
  },
  {
   "cell_type": "code",
   "execution_count": 7,
   "metadata": {},
   "outputs": [],
   "source": [
    "from keras.losses import CategoricalCrossentropy\n",
    "from keras.optimizers import Adam\n",
    "opti = Adam(learning_rate=0.0001)\n",
    "model.compile(\n",
    "  optimizer=opti,\n",
    "  loss=CategoricalCrossentropy(),\n",
    "  metrics=[tf.keras.metrics.Precision()])"
   ]
  },
  {
   "cell_type": "code",
   "execution_count": null,
   "metadata": {},
   "outputs": [],
   "source": [
    "history = model.fit( \n",
    "  train_it,\n",
    "  validation_data=test_it,\n",
    "  epochs=6)"
   ]
  },
  {
   "cell_type": "code",
   "execution_count": null,
   "metadata": {},
   "outputs": [],
   "source": [
    "# test on random pictures\n",
    "from keras.utils import load_img\n",
    "image = load_img('../orange_dataset/test/rotten/rotated_by_15_Screen Shot 2018-06-12 at 11.24.43 PM.png', target_size=(224, 224))\n",
    "img = np.array(image)\n",
    "img = img / 255.0\n",
    "img = img.reshape(1,224,224,3)\n",
    "label = model.predict(img)\n",
    "print(label)"
   ]
  }
 ],
 "metadata": {
  "kernelspec": {
   "display_name": "base",
   "language": "python",
   "name": "python3"
  },
  "language_info": {
   "codemirror_mode": {
    "name": "ipython",
    "version": 3
   },
   "file_extension": ".py",
   "mimetype": "text/x-python",
   "name": "python",
   "nbconvert_exporter": "python",
   "pygments_lexer": "ipython3",
   "version": "3.9.13"
  },
  "orig_nbformat": 4
 },
 "nbformat": 4,
 "nbformat_minor": 2
}
