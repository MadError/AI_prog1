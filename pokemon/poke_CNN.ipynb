{
 "cells": [
  {
   "cell_type": "code",
   "execution_count": 41,
   "metadata": {},
   "outputs": [],
   "source": [
    "import tensorflow as tf\n",
    "import numpy as np\n",
    "import pandas as pd\n",
    "import os\n",
    "from sklearn.model_selection import StratifiedKFold"
   ]
  },
  {
   "cell_type": "code",
   "execution_count": 42,
   "metadata": {},
   "outputs": [],
   "source": [
    "IMAGE_SIZE = [224, 224]\n",
    "train_path=\"../pokemon_dataset/\""
   ]
  },
  {
   "cell_type": "code",
   "execution_count": 43,
   "metadata": {},
   "outputs": [],
   "source": [
    "train = []\n",
    "for file in os.listdir(os.path.join(train_path, 'train/pikachu')):\n",
    "    train.append(['train/pikachu/{}'.format(file), 'pikachu'])\n",
    "\n",
    "for file in os.listdir(os.path.join(train_path, 'train/raichu')):\n",
    "    train.append(['train/raichu/{}'.format(file), 'raichu'])\n",
    "    \n",
    "train = pd.DataFrame(train, columns=['file', 'class_id'])\n",
    "\n",
    "train = train.sample(frac=1).reset_index(drop=True)\n",
    "# control data size\n",
    "#train = train.sample(80).reset_index(drop=True)\n",
    "#print(train)"
   ]
  },
  {
   "cell_type": "code",
   "execution_count": 44,
   "metadata": {},
   "outputs": [],
   "source": [
    "from keras.layers import Conv2D, MaxPooling2D, Flatten, Dense\n",
    "from keras import Sequential"
   ]
  },
  {
   "cell_type": "code",
   "execution_count": 45,
   "metadata": {},
   "outputs": [],
   "source": [
    "model = Sequential()\n",
    "model.add(Conv2D(32, (5,5),padding='valid',activation='relu',input_shape=(224,224,4)))\n",
    "model.add(MaxPooling2D(pool_size=(4,4)))\n",
    "model.add(Flatten())\n",
    "model.add(Dense(128,activation='relu'))\n",
    "model.add(Dense(2,activation='softmax'))"
   ]
  },
  {
   "cell_type": "code",
   "execution_count": 46,
   "metadata": {},
   "outputs": [],
   "source": [
    "from keras.losses import CategoricalCrossentropy\n",
    "from keras.optimizers import Adam\n",
    "opti = Adam(learning_rate=0.001)\n",
    "model.compile(\n",
    "  optimizer=opti,\n",
    "  loss=CategoricalCrossentropy(),\n",
    "  metrics=[tf.keras.metrics.Precision()])"
   ]
  },
  {
   "cell_type": "code",
   "execution_count": 47,
   "metadata": {},
   "outputs": [],
   "source": [
    "from keras.preprocessing.image import ImageDataGenerator\n",
    "# create generator\n",
    "datagen = ImageDataGenerator(rescale = 1./255,\n",
    "                             shear_range = 0.2,\n",
    "                             zoom_range = 0.2,\n",
    "                             horizontal_flip = True,\n",
    "                             vertical_flip=True,\n",
    "                             rotation_range=30)"
   ]
  },
  {
   "cell_type": "code",
   "execution_count": null,
   "metadata": {},
   "outputs": [],
   "source": [
    "from sklearn.model_selection import StratifiedKFold\n",
    "\n",
    "strtfdKFold = StratifiedKFold(n_splits=10)\n",
    "t = train.class_id\n",
    "kfold = strtfdKFold.split(train, t)\n",
    "scores = []\n",
    "tot_score = 0\n",
    "\n",
    "for k, (train_idx, test_idx) in enumerate(kfold):\n",
    "    # prepare an iterators for each dataset\n",
    "    train_data = train.loc[train_idx]\n",
    "    test_data = train.loc[test_idx]\n",
    "    train_it = datagen.flow_from_dataframe(dataframe = train_data,\n",
    "                                       directory=train_path, \n",
    "                                       class_mode='categorical',\n",
    "                                       x_col=\"file\",\n",
    "                                       y_col=\"class_id\",\n",
    "                                       target_size=(224, 224),\n",
    "                                       color_mode='rgba',\n",
    "                                       batch_size=2,\n",
    "                                       seed=7)\n",
    "    test_it = datagen.flow_from_dataframe(dataframe = test_data,  \n",
    "                                       directory=train_path,\n",
    "                                       class_mode='categorical',\n",
    "                                       x_col=\"file\",\n",
    "                                       y_col=\"class_id\",\n",
    "                                       target_size=(224, 224),\n",
    "                                       color_mode='rgba',\n",
    "                                       batch_size=2,\n",
    "                                       seed=7)\n",
    "\n",
    "    model.fit(train_it,\n",
    "            validation_data = test_it,\n",
    "            epochs = 1)\n",
    "    scores = model.evaluate(test_it)\n",
    "    tot_score += scores[1]*100\n",
    "    print(\"Accuarcy %s: %.2f%%\" % (model.metrics_names[1], scores[1]*100))\n",
    "\n",
    "print('\\n\\nCross-Validation accuracy: %.3f' %(tot_score/10))"
   ]
  }
 ],
 "metadata": {
  "kernelspec": {
   "display_name": "base",
   "language": "python",
   "name": "python3"
  },
  "language_info": {
   "codemirror_mode": {
    "name": "ipython",
    "version": 3
   },
   "file_extension": ".py",
   "mimetype": "text/x-python",
   "name": "python",
   "nbconvert_exporter": "python",
   "pygments_lexer": "ipython3",
   "version": "3.9.13"
  },
  "orig_nbformat": 4
 },
 "nbformat": 4,
 "nbformat_minor": 2
}
