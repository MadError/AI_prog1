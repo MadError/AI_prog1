{
 "cells": [
  {
   "cell_type": "code",
   "execution_count": 208,
   "metadata": {},
   "outputs": [],
   "source": [
    "from sklearn.neighbors import KNeighborsClassifier\n",
    "from sklearn.model_selection import train_test_split\n",
    "from sklearn.metrics import classification_report\n",
    "import numpy as np \n",
    "import pandas as pd\n",
    "import os  \n",
    "import random"
   ]
  },
  {
   "cell_type": "code",
   "execution_count": 209,
   "metadata": {},
   "outputs": [],
   "source": [
    "train_path = \"../pokemon_dataset/train/\""
   ]
  },
  {
   "cell_type": "code",
   "execution_count": 210,
   "metadata": {},
   "outputs": [],
   "source": [
    "# preprocess image size\n",
    "import cv2\n",
    "class SimplePreprocessor:\n",
    "    def __init__(self, width, height, inter=cv2.INTER_AREA):\n",
    "        self.width = width\n",
    "        self.height = height\n",
    "        self.inter = inter\n",
    "        \n",
    "    def preprocess(self, image):\n",
    "        return cv2.resize(image, (self.width, self.height), interpolation=self.inter)"
   ]
  },
  {
   "cell_type": "code",
   "execution_count": 211,
   "metadata": {},
   "outputs": [],
   "source": [
    "# load images from path to array\n",
    "class SimpleDatasetLoader:\n",
    "    def __init__(self, preprocessors=None):\n",
    "        self.preprocessors = preprocessors\n",
    "        if self.preprocessors is None:\n",
    "            self.preprocessors = []\n",
    "\n",
    "    def load(self, imagePaths, label, verbose=-1):\n",
    "        data = []\n",
    "        labels = []\n",
    "        \n",
    "        for (i, imagePath) in enumerate(imagePaths):\n",
    "            if True:\n",
    "                image = cv2.imread(imagePath)\n",
    "                label = label\n",
    "\n",
    "                if image is None:\n",
    "                    continue\n",
    "\n",
    "                if self.preprocessors is not None:\n",
    "                    for p in self.preprocessors:\n",
    "                        image = p.preprocess(image)        \n",
    "                    data.append(image)\n",
    "                    labels.append(label)\n",
    "            if verbose > 0 and i > 0 and (i + 1) % verbose == 0:\n",
    "                print(\"[INFO] processed {}/{}\".format(i + 1,len(imagePaths)))\n",
    "            \n",
    "        return (np.array(data), np.array(labels))"
   ]
  },
  {
   "cell_type": "code",
   "execution_count": 212,
   "metadata": {},
   "outputs": [],
   "source": [
    "def process_img(path, label):\n",
    "    imagePaths = os.listdir(path)\n",
    "    imagePaths = [path+\"/\"+i for i in imagePaths]\n",
    "\n",
    "    sp = SimplePreprocessor(128, 128)\n",
    "    sdl = SimpleDatasetLoader(preprocessors=[sp])\n",
    "    (data, labels) = sdl.load(imagePaths, verbose=500, label=label)\n",
    "    data = data.reshape((data.shape[0], 49152))\n",
    "\n",
    "    print(\"[INFO] features matrix: {:.1f}MB\".format(data.nbytes / (1024 * 1024.0)))\n",
    "\n",
    "    return data, labels"
   ]
  },
  {
   "cell_type": "code",
   "execution_count": null,
   "metadata": {},
   "outputs": [],
   "source": [
    "(data_pikachu, pikachu_labels) = process_img(train_path + 'pikachu', 1)\n",
    "(data_raichu, raichu_labels) = process_img(train_path + 'raichu', 0)\n",
    "\n",
    "x_train = np.concatenate([data_pikachu, data_raichu])\n",
    "y_train = np.concatenate([pikachu_labels, raichu_labels])\n",
    "\n",
    "idx = np.arange(len(x_train))\n",
    "random.shuffle(idx)\n",
    "x_train = x_train[idx]\n",
    "y_train = y_train[idx]\n",
    "\n",
    "# control data size\n",
    "'''n = 80\n",
    "x_train = x_train[:n, :]\n",
    "y_train = y_train[:n]'''"
   ]
  },
  {
   "cell_type": "code",
   "execution_count": 214,
   "metadata": {},
   "outputs": [],
   "source": [
    "from sklearn.utils import shuffle\n",
    "x_train, y_train = shuffle(x_train, y_train, random_state=0)"
   ]
  },
  {
   "cell_type": "code",
   "execution_count": 215,
   "metadata": {},
   "outputs": [],
   "source": [
    "model = KNeighborsClassifier(n_neighbors=9, n_jobs=1)"
   ]
  },
  {
   "cell_type": "code",
   "execution_count": null,
   "metadata": {},
   "outputs": [],
   "source": [
    "from sklearn.model_selection import StratifiedKFold\n",
    "\n",
    "strtfdKFold = StratifiedKFold(n_splits=10)\n",
    "kfold = strtfdKFold.split(x_train, y_train)\n",
    "scores = []\n",
    "\n",
    "for k, (train, test) in enumerate(kfold):\n",
    "    model.fit(x_train[train], y_train[train])\n",
    "    score = model.score(x_train[test], y_train[test])\n",
    "    scores.append(score)\n",
    "    print('Fold: %2d, Training/Test Split Distribution: %s, Accuracy: %.3f' % (k+1, np.bincount(y_train[train]), score))\n",
    "\n",
    "print('\\n\\nCross-Validation accuracy: %.4f +/- %.3f' %(np.mean(scores), np.std(scores)))"
   ]
  }
 ],
 "metadata": {
  "kernelspec": {
   "display_name": "base",
   "language": "python",
   "name": "python3"
  },
  "language_info": {
   "codemirror_mode": {
    "name": "ipython",
    "version": 3
   },
   "file_extension": ".py",
   "mimetype": "text/x-python",
   "name": "python",
   "nbconvert_exporter": "python",
   "pygments_lexer": "ipython3",
   "version": "3.9.13"
  },
  "orig_nbformat": 4
 },
 "nbformat": 4,
 "nbformat_minor": 2
}
