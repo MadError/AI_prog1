{
 "cells": [
  {
   "cell_type": "code",
   "execution_count": 155,
   "metadata": {},
   "outputs": [],
   "source": [
    "import numpy as np\n",
    "import glob\n",
    "import cv2\n",
    "import os\n",
    "from sklearn.preprocessing import StandardScaler\n",
    "from sklearn import metrics\n",
    "\n",
    "dim = 100"
   ]
  },
  {
   "cell_type": "code",
   "execution_count": 156,
   "metadata": {},
   "outputs": [],
   "source": [
    "train_path = \"../pokemon_dataset/train/\"\n",
    "test_path = \"../pokemon_dataset/test/\""
   ]
  },
  {
   "cell_type": "code",
   "execution_count": 157,
   "metadata": {},
   "outputs": [],
   "source": [
    "def getImage(all_fruits, data_type):\n",
    "    images = []\n",
    "    labels = []\n",
    "    path = train_path\n",
    "\n",
    "    for i,f in enumerate(all_fruits):\n",
    "        p = path + f + \"/\"\n",
    "        j=0\n",
    "        for image_path in glob.glob(os.path.join(p, \"*\")):\n",
    "            image = cv2.imread(image_path, cv2.IMREAD_COLOR)\n",
    "            image = cv2.resize(image, (dim, dim))\n",
    "            image = cv2.cvtColor(image, cv2.COLOR_RGB2BGR)\n",
    "            images.append(image)\n",
    "            labels.append(i)\n",
    "            j+=1\n",
    "            if(j >= 40): # take less images to lower train duration\n",
    "                break\n",
    "        print(\"There are \" , j , \" \" , data_type.upper(), \" images of \" , all_fruits[i].upper())\n",
    "    images = np.array(images)\n",
    "    labels = np.array(labels)\n",
    "    return images, labels"
   ]
  },
  {
   "cell_type": "code",
   "execution_count": 158,
   "metadata": {},
   "outputs": [
    {
     "name": "stdout",
     "output_type": "stream",
     "text": [
      "There are  40   TRAIN  images of  PIKACHU\n",
      "There are  40   TRAIN  images of  RAICHU\n"
     ]
    }
   ],
   "source": [
    "labels = ['pikachu' , 'raichu']\n",
    "\n",
    "X, y =  getImage(labels, 'train')"
   ]
  },
  {
   "cell_type": "code",
   "execution_count": 159,
   "metadata": {},
   "outputs": [],
   "source": [
    "scaler = StandardScaler()\n",
    "X_train = scaler.fit_transform([i.flatten() for i in X])"
   ]
  },
  {
   "cell_type": "code",
   "execution_count": 160,
   "metadata": {},
   "outputs": [],
   "source": [
    "from sklearn.linear_model import LogisticRegressionCV\n",
    "model = LogisticRegressionCV(max_iter=1800)"
   ]
  },
  {
   "cell_type": "code",
   "execution_count": 161,
   "metadata": {},
   "outputs": [
    {
     "name": "stdout",
     "output_type": "stream",
     "text": [
      "Fold:  1, Training/Test Split Distribution: [8 8], Accuracy: 0.688\n",
      "Fold:  2, Training/Test Split Distribution: [8 8], Accuracy: 0.812\n",
      "Fold:  3, Training/Test Split Distribution: [8 8], Accuracy: 0.812\n",
      "Fold:  4, Training/Test Split Distribution: [8 8], Accuracy: 0.812\n",
      "Fold:  5, Training/Test Split Distribution: [8 8], Accuracy: 0.688\n",
      "\n",
      "\n",
      "Cross-Validation accuracy: 0.762 +/- 0.061\n"
     ]
    }
   ],
   "source": [
    "from sklearn.model_selection import StratifiedKFold\n",
    "\n",
    "strtfdKFold = StratifiedKFold(n_splits=5)\n",
    "kfold = strtfdKFold.split(X_train, y)\n",
    "scores = []\n",
    "\n",
    "for k, (train, test) in enumerate(kfold):\n",
    "    model.fit(X_train[train], y[train])\n",
    "    score = model.score(X_train[test], y[test])\n",
    "    scores.append(score)\n",
    "    print('Fold: %2d, Training/Test Split Distribution: %s, Accuracy: %.3f' % (k+1, np.bincount(y[test]), score))\n",
    "\n",
    "print('\\n\\nCross-Validation accuracy: %.3f +/- %.3f' %(np.mean(scores), np.std(scores)))"
   ]
  }
 ],
 "metadata": {
  "kernelspec": {
   "display_name": "base",
   "language": "python",
   "name": "python3"
  },
  "language_info": {
   "codemirror_mode": {
    "name": "ipython",
    "version": 3
   },
   "file_extension": ".py",
   "mimetype": "text/x-python",
   "name": "python",
   "nbconvert_exporter": "python",
   "pygments_lexer": "ipython3",
   "version": "3.9.13"
  },
  "orig_nbformat": 4
 },
 "nbformat": 4,
 "nbformat_minor": 2
}
