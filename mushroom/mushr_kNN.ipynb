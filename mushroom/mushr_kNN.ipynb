{
 "cells": [
  {
   "cell_type": "code",
   "execution_count": 31,
   "metadata": {},
   "outputs": [],
   "source": [
    "import numpy as np # linear algebra\n",
    "import pandas as pd # data processing, CSV file I/O (e.g. pd.read_csv)\n",
    "from sklearn import preprocessing"
   ]
  },
  {
   "cell_type": "code",
   "execution_count": 32,
   "metadata": {},
   "outputs": [],
   "source": [
    "df = pd.read_csv(\"../mushroom_dataset/mushroom.csv\")\n",
    "#df = df.sample(n=3000) # control data size"
   ]
  },
  {
   "cell_type": "code",
   "execution_count": null,
   "metadata": {},
   "outputs": [],
   "source": [
    "label_enc = preprocessing.LabelEncoder()\n",
    "onehot_enc = preprocessing.OneHotEncoder()\n",
    "X =df.iloc[:,:-1]\n",
    "Y = df[\"class\"]\n",
    "\n",
    "for i in X:\n",
    "    X[i] = label_enc.fit_transform(X[i])\n",
    "\n",
    "Y = pd.get_dummies(Y,prefix='class')\n",
    "# leave the 'edible' column\n",
    "Y = Y[\"class_b\\'e\\'\"]"
   ]
  },
  {
   "cell_type": "code",
   "execution_count": 34,
   "metadata": {},
   "outputs": [],
   "source": [
    "from sklearn.neighbors import KNeighborsClassifier\n",
    "knn = KNeighborsClassifier(n_neighbors=9)"
   ]
  },
  {
   "cell_type": "code",
   "execution_count": null,
   "metadata": {},
   "outputs": [],
   "source": [
    "from sklearn.metrics import accuracy_score\n",
    "from sklearn.model_selection import StratifiedKFold\n",
    "\n",
    "strtfdKFold = StratifiedKFold(n_splits=5)\n",
    "kfold = strtfdKFold.split(X, Y)\n",
    "scores = []\n",
    "\n",
    "for k, (train, test) in enumerate(kfold):\n",
    "    knn.fit(X.iloc[train, :], Y.iloc[train])\n",
    "    score = knn.score(X.iloc[test, :], Y.iloc[test])\n",
    "    scores.append(score)\n",
    "    print('Fold: %2d, Training/Test Split Distribution: %s, Accuracy: %.3f' % (k+1, np.bincount(Y.iloc[train]), score))\n",
    "\n",
    "print('\\n\\nCross-Validation accuracy: %.4f +/- %.3f' %(np.mean(scores), np.std(scores)))"
   ]
  }
 ],
 "metadata": {
  "kernelspec": {
   "display_name": "base",
   "language": "python",
   "name": "python3"
  },
  "language_info": {
   "codemirror_mode": {
    "name": "ipython",
    "version": 3
   },
   "file_extension": ".py",
   "mimetype": "text/x-python",
   "name": "python",
   "nbconvert_exporter": "python",
   "pygments_lexer": "ipython3",
   "version": "3.9.13"
  },
  "orig_nbformat": 4
 },
 "nbformat": 4,
 "nbformat_minor": 2
}
