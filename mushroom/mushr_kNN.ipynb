{
 "cells": [
  {
   "cell_type": "code",
   "execution_count": 21,
   "metadata": {},
   "outputs": [],
   "source": [
    "import numpy as np # linear algebra\n",
    "import pandas as pd # data processing, CSV file I/O (e.g. pd.read_csv)\n",
    "import matplotlib.pyplot as plt\n",
    "import seaborn as sns \n",
    "from sklearn.model_selection import GridSearchCV\n",
    "from sklearn import preprocessing"
   ]
  },
  {
   "cell_type": "code",
   "execution_count": 22,
   "metadata": {},
   "outputs": [],
   "source": [
    "df = pd.read_csv(\"../mushroom_dataset/mushroom.csv\")\n",
    "df = df.sample(n=8000)"
   ]
  },
  {
   "cell_type": "code",
   "execution_count": 23,
   "metadata": {},
   "outputs": [
    {
     "name": "stderr",
     "output_type": "stream",
     "text": [
      "C:\\Users\\meng9\\AppData\\Local\\Temp\\ipykernel_22080\\2441863882.py:7: SettingWithCopyWarning: \n",
      "A value is trying to be set on a copy of a slice from a DataFrame.\n",
      "Try using .loc[row_indexer,col_indexer] = value instead\n",
      "\n",
      "See the caveats in the documentation: https://pandas.pydata.org/pandas-docs/stable/user_guide/indexing.html#returning-a-view-versus-a-copy\n",
      "  X[i] = label_enc.fit_transform(X[i])\n"
     ]
    }
   ],
   "source": [
    "label_enc = preprocessing.LabelEncoder()\n",
    "onehot_enc = preprocessing.OneHotEncoder()\n",
    "X =df.iloc[:,:-1]\n",
    "Y = df[\"class\"]\n",
    "\n",
    "for i in X:\n",
    "    X[i] = label_enc.fit_transform(X[i])\n",
    "\n",
    "Y = pd.get_dummies(Y,prefix='class')\n",
    "Y = Y[\"class_b\\'e\\'\"]"
   ]
  },
  {
   "cell_type": "code",
   "execution_count": 24,
   "metadata": {},
   "outputs": [],
   "source": [
    "from sklearn.neighbors import KNeighborsClassifier\n",
    "knn = KNeighborsClassifier(n_neighbors=3)"
   ]
  },
  {
   "cell_type": "code",
   "execution_count": 25,
   "metadata": {},
   "outputs": [
    {
     "name": "stdout",
     "output_type": "stream",
     "text": [
      "Fold:  1, Training/Test Split Distribution: [3096 3304], Accuracy: 0.999\n",
      "Fold:  2, Training/Test Split Distribution: [3097 3303], Accuracy: 1.000\n",
      "Fold:  3, Training/Test Split Distribution: [3097 3303], Accuracy: 1.000\n",
      "Fold:  4, Training/Test Split Distribution: [3097 3303], Accuracy: 0.997\n",
      "Fold:  5, Training/Test Split Distribution: [3097 3303], Accuracy: 0.999\n",
      "\n",
      "\n",
      "Cross-Validation accuracy: 0.999 +/- 0.001\n"
     ]
    }
   ],
   "source": [
    "from sklearn.metrics import accuracy_score\n",
    "from sklearn.model_selection import StratifiedKFold\n",
    "\n",
    "strtfdKFold = StratifiedKFold(n_splits=5)\n",
    "kfold = strtfdKFold.split(X, Y)\n",
    "scores = []\n",
    "\n",
    "for k, (train, test) in enumerate(kfold):\n",
    "    knn.fit(X.iloc[train, :], Y.iloc[train])\n",
    "    score = knn.score(X.iloc[test, :], Y.iloc[test])\n",
    "    scores.append(score)\n",
    "    print('Fold: %2d, Training/Test Split Distribution: %s, Accuracy: %.3f' % (k+1, np.bincount(Y.iloc[train]), score))\n",
    "\n",
    "print('\\n\\nCross-Validation accuracy: %.3f +/- %.3f' %(np.mean(scores), np.std(scores)))"
   ]
  }
 ],
 "metadata": {
  "kernelspec": {
   "display_name": "base",
   "language": "python",
   "name": "python3"
  },
  "language_info": {
   "codemirror_mode": {
    "name": "ipython",
    "version": 3
   },
   "file_extension": ".py",
   "mimetype": "text/x-python",
   "name": "python",
   "nbconvert_exporter": "python",
   "pygments_lexer": "ipython3",
   "version": "3.9.13"
  },
  "orig_nbformat": 4
 },
 "nbformat": 4,
 "nbformat_minor": 2
}
